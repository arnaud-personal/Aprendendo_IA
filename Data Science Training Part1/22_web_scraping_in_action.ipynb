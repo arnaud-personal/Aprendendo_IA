{
 "cells": [
  {
   "cell_type": "code",
   "execution_count": 1,
   "id": "8f5ea6ed-2b2e-4cac-b418-ee3f340e47a3",
   "metadata": {},
   "outputs": [],
   "source": [
    "#===================================================\n",
    "#           WEB SCRAPING IN ACTION\n",
    "#===================================================\n",
    "\n",
    "import requests\n",
    "from urllib import request\n",
    "from bs4 import BeautifulSoup\n",
    "import re\n"
   ]
  },
  {
   "cell_type": "code",
   "execution_count": 2,
   "id": "ea297520-f2e4-4e15-8cca-fb03ea3a461b",
   "metadata": {},
   "outputs": [
    {
     "name": "stdout",
     "output_type": "stream",
     "text": [
      "Página carregada!\n"
     ]
    }
   ],
   "source": [
    "url = 'https://analytics.usa.gov/visualizations/'\n",
    "result = requests.get(url)\n",
    "if result.status_code == 200:\n",
    "    s = BeautifulSoup(result.content,'lxml')\n",
    "    print('Página carregada!')\n",
    "else:\n",
    "    print('Página não encontrada...')"
   ]
  },
  {
   "cell_type": "code",
   "execution_count": 3,
   "id": "1c2edbfe-4e4b-48bf-89ec-ae7331e08952",
   "metadata": {},
   "outputs": [
    {
     "name": "stdout",
     "output_type": "stream",
     "text": [
      "<!DOCTYPE html>\n",
      "<html lang=\"en\">\n",
      " <!-- Initalize title and data source variables -->\n",
      " <head>\n",
      "  <!--\n",
      "\n",
      "    Hi! Welcome to our source code.\n",
      "\n",
      "    This dashboard uses data from the Digital Analytics Program, a US\n",
      "    government team inside the General Services Administration.\n",
      "\n",
      "\n",
      "    For a detailed tech br\n"
     ]
    }
   ],
   "source": [
    "print(s.prettify()[:300])"
   ]
  },
  {
   "cell_type": "code",
   "execution_count": 4,
   "id": "3acb5fb3-c500-4eca-908c-2b6c126c6ea9",
   "metadata": {},
   "outputs": [
    {
     "name": "stdout",
     "output_type": "stream",
     "text": [
      "/\n",
      "/about\n",
      "/definitions\n",
      "https://open.gsa.gov/api/dap/\n",
      "/visualizations\n",
      "/data\n"
     ]
    }
   ],
   "source": [
    "for link in s.find_all('a'):\n",
    "    print(link.get('href'))"
   ]
  },
  {
   "cell_type": "code",
   "execution_count": 5,
   "id": "e7f5f808-7488-4f59-81a7-dd7b14053908",
   "metadata": {},
   "outputs": [
    {
     "name": "stdout",
     "output_type": "stream",
     "text": [
      "\n",
      "\n",
      "\n",
      "\n",
      "\n",
      "\n",
      "\n",
      "\n",
      "\n",
      "\n",
      "\n",
      "\n",
      "\n",
      "\n",
      "\n",
      "analytics.usa.gov | The US government's web traffic.\n",
      "\n",
      "\n",
      "\n",
      "\n",
      "\n",
      "\n",
      "\n",
      "\n",
      "\n",
      "\n",
      "\n",
      "\n",
      "\n",
      "\n",
      "\n",
      "\n",
      "\n",
      "\n",
      "            An official website of the United States government\n",
      "          \n",
      "Here’s how you know\n",
      "\n",
      "\n",
      "Here’s how you know\n",
      "\n",
      "\n",
      "\n",
      "\n",
      "\n",
      "\n",
      "\n",
      "\n",
      "\n",
      "Official websites use .govA\n",
      "              .gov website belongs to an official government\n",
      "              organization in the United States.\n",
      "            \n",
      "\n",
      "\n",
      "\n",
      "\n",
      "\n",
      "\n",
      "Secure .gov websites use HTTPSA\n",
      "              lock (\n",
      "              \n",
      "Lock\n",
      "\n",
      "                    Locked padlock icon\n",
      "                  \n",
      "\n",
      " ) or https:// means you’ve safely connected to\n",
      "              the .gov website. Share sensitive information only on official,\n",
      "              secure websites.\n",
      "            \n",
      "\n",
      "\n",
      "\n",
      "\n",
      "\n",
      "\n",
      "\n",
      "\n",
      "\n",
      " analytics.usa.gov \n",
      "\n",
      "\n",
      "\n",
      "Search\n",
      "\n",
      "\n",
      "\n",
      "\n",
      "\n",
      "\n",
      "\n",
      "\n",
      "\n",
      "\n",
      "\n",
      "\n",
      "About\n",
      "\n",
      "\n",
      "•\n",
      "\n",
      "\n",
      "Definitions\n",
      "\n",
      "\n",
      "•\n",
      "\n",
      "\n",
      "API\n",
      "\n",
      "\n",
      "\n",
      "\n",
      "\n",
      "\n",
      "Visualize Data\n",
      "\n",
      "\n",
      "•\n",
      "\n",
      "\n",
      "Download Data\n",
      "\n",
      "\n",
      "\n",
      "\n",
      "\n",
      "\n",
      "\n",
      "\n",
      "\n",
      "\n",
      "\n",
      "\n",
      "\n",
      "\n",
      "\n",
      "Customer feedback\n",
      "over the last 30 days\n",
      "\n",
      "\n",
      "\n",
      "\n",
      "\n",
      "\n",
      "\n",
      "\n",
      "\n",
      "\n",
      "\n"
     ]
    }
   ],
   "source": [
    "print(s.get_text())"
   ]
  },
  {
   "cell_type": "code",
   "execution_count": 13,
   "id": "378ea326-5340-41c0-bbab-b2175472155f",
   "metadata": {},
   "outputs": [
    {
     "name": "stdout",
     "output_type": "stream",
     "text": [
      "<!DOCTYPE html>\n",
      "<html lang=\"en\">\n",
      " <!-- Initalize title and data source variables -->\n",
      " <head>\n",
      "  <!--\n",
      "\n",
      "    Hi! Welcome to our source code.\n",
      "\n",
      "    This dashboard uses data from the Digital Analytics Program, a US\n",
      "    government team inside the General Services Administration.\n",
      "\n",
      "\n",
      "    For a detailed tech breakdown of how 18F and friends built this site:\n",
      "\n",
      "    https://18f.gsa.gov/2015/03/19/how-we-built-analytics-usa-gov/\n",
      "\n",
      "\n",
      "    This is a fully open source project, and your contributions are welcome.\n",
      "\n",
      "    Frontend static site: https://github.com/18F/analytics.usa.gov\n",
      "    Backend data reporting: https://github.com/18F/analytics-reporter\n",
      "\n",
      "    -->\n",
      "  <meta charset=\"utf-8\"/>\n",
      "  <meta content=\"width=device-width, initial-scale=1\" name=\"viewport\"/>\n",
      "  <meta content=\"IE=Edge\" http-equiv=\"X-UA-Compatible\"/>\n",
      "  <meta content=\"3M4CQMJIt6qoilByli-rZfUFU6ET-No8gF12dAQFPfc\" name=\"google-site-verification\"/>\n",
      "  <link href=\"/css/styles.css\" rel=\"stylesheet\"/>\n",
      "  <link href=\"/images/analytics-favicon.ico\" rel=\"icon\" type=\"image/x-icon\"/>\n",
      "  <meta content=\"@usgsa\" name=\"twitter:site\"/>\n",
      "  <meta content=\"@usgsa\" name=\"twitter:creator\"/>\n",
      "  <meta content=\"website\" property=\"og:type\"/>\n",
      "  <meta content=\"https://analytics.usa.gov\" property=\"og:url\"/>\n",
      "  <link href=\"https://analytics.usa.gov\" rel=\"canonical\"/>\n",
      "  <title>\n",
      "   analytics.usa.gov | The US government's web traffic.\n",
      "  </title>\n",
      "  <meta content=\"analytics.usa.gov | The US government's web traffic.\" property=\"og:title\"/>\n",
      "  <meta content=\"analytics.usa.gov | The US government's web traffic.\" property=\"og:site_name\"/>\n",
      "  <meta content=\"Official data on web traffic to thousands of US federal government websites. Published by the Digital Analytics Program.\" name=\"description\"/>\n",
      "  <meta content=\"Official data on web traffic to thousands of US federal government websites. Published by the Digital Analytics Program.\" property=\"og:description\"/>\n",
      "  <meta content=\"summary_large_image\" name=\"twitter:card\"/>\n",
      "  <meta content=\"https://analytics.usa.gov/images/share-image.png\" property=\"og:image\"/>\n",
      "  <script async=\"\" src=\"/assets/uswds/js/uswds-init.min.js\" type=\"text/javascript\">\n",
      "  </script>\n",
      " </head>\n",
      " <body>\n",
      "  <section aria-label=\"Official website of the United States government\" class=\"usa-banner\">\n",
      "   <div class=\"usa-accordion\">\n",
      "    <header class=\"usa-banner__header\">\n",
      "     <div class=\"usa-banner__inner\">\n",
      "      <div class=\"grid-col-auto\">\n",
      "       <img alt=\"\" aria-hidden=\"true\" class=\"usa-banner__header-flag\" src=\"/assets/uswds/img/us_flag_small.png\"/>\n",
      "      </div>\n",
      "      <div aria-hidden=\"true\" class=\"grid-col-fill tablet:grid-col-auto\">\n",
      "       <p class=\"usa-banner__header-text\">\n",
      "        An official website of the United States government\n",
      "       </p>\n",
      "       <p class=\"usa-banner__header-action\">\n",
      "        Here’s how you know\n",
      "       </p>\n",
      "      </div>\n",
      "      <button aria-controls=\"gov-banner-default-default\" aria-expanded=\"false\" class=\"usa-accordion__button usa-banner__button\" type=\"button\">\n",
      "       <span class=\"usa-banner__button-text\">\n",
      "        Here’s how\n"
     ]
    }
   ],
   "source": [
    "print(s.prettify()[:3000])"
   ]
  },
  {
   "cell_type": "code",
   "execution_count": 23,
   "id": "78fdc7a9-0cb8-49c7-b8be-bd50bba8b0d2",
   "metadata": {},
   "outputs": [
    {
     "name": "stdout",
     "output_type": "stream",
     "text": [
      "/\n",
      "/about\n",
      "/definitions\n",
      "https://open.gsa.gov/api/dap/\n",
      "/visualizations\n",
      "/data\n"
     ]
    }
   ],
   "source": [
    "for link in s.find_all('a'):\n",
    "    print(link.get('href'))"
   ]
  },
  {
   "cell_type": "code",
   "execution_count": 25,
   "id": "e834b8cd-8ae3-4080-904a-30592b969b9a",
   "metadata": {},
   "outputs": [
    {
     "name": "stdout",
     "output_type": "stream",
     "text": [
      "https://open.gsa.gov/api/dap/\n"
     ]
    }
   ],
   "source": [
    "for link in s.find_all('a', attrs={'href':re.compile('http')}):\n",
    "    print(link.get('href'))\n"
   ]
  },
  {
   "cell_type": "code",
   "execution_count": 29,
   "id": "e660c08b-6322-40f9-8061-e833b175fbda",
   "metadata": {},
   "outputs": [],
   "source": [
    "with open('parsed data.txt', 'w') as file:\n",
    "    for link in s.find_all('a', attrs={'href':re.compile('http')}):\n",
    "        file.write(link.get('href'))\n",
    "        #print(link.get('href'))"
   ]
  }
 ],
 "metadata": {
  "kernelspec": {
   "display_name": "Python 3 (ipykernel)",
   "language": "python",
   "name": "python3"
  },
  "language_info": {
   "codemirror_mode": {
    "name": "ipython",
    "version": 3
   },
   "file_extension": ".py",
   "mimetype": "text/x-python",
   "name": "python",
   "nbconvert_exporter": "python",
   "pygments_lexer": "ipython3",
   "version": "3.12.7"
  }
 },
 "nbformat": 4,
 "nbformat_minor": 5
}
