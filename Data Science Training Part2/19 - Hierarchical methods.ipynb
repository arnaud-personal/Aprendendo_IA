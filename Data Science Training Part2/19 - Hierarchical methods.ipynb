{
 "cells": [
  {
   "cell_type": "markdown",
   "id": "45493ee4-54fe-47cb-9ac9-fdaa5b890044",
   "metadata": {},
   "source": [
    "<h1>Hierarchical clustering</h1>"
   ]
  },
  {
   "cell_type": "markdown",
   "id": "56e41802-5ff0-4065-9c6a-80d813c8875c",
   "metadata": {},
   "source": [
    "O Hierarchical Clustering (Agrupamento Hierárquico) é um método de aprendizado não supervisionado que constrói uma árvore de agrupamento (chamada dendrograma), onde os clusters são formados de maneira recursiva com base na similaridade entre os dados.\n",
    "\n",
    "<h3>🎯 O que é e qual o objetivo?</h3>\n",
    "O objetivo é agrupar dados similares em uma estrutura hierárquica, que permite visualizar diferentes níveis de agrupamento, desde cada ponto isolado até todos em um único grupo.\n",
    "\n",
    "Existem dois tipos principais:\n",
    "<ul>\n",
    "    <li>Aglomerativo (bottom-up) – o mais comum:\n",
    "        <ul>\n",
    "            <li>Começa com cada ponto em um cluster individual.</li>\n",
    "            <li>Vai juntando os clusters mais próximos até formar um único grupo.</li>\n",
    "        </ul>\n",
    "    </li>\n",
    "    <li>Divisivo (top-down):\n",
    "        <ul>\n",
    "            <li>Começa com todos os pontos em um único cluster.</li>\n",
    "            <li>Vai dividindo em clusters menores.</li>\n",
    "        </ul>\n",
    "    </li>\n",
    "</ul>\n",
    "\n",
    "<h3>✅ Pré-requisitos</h3>\n",
    "<ol>\n",
    "    <li>Matriz de distâncias ou métrica de similaridade.</li>\n",
    "    <li>Dados numéricos ou com uma medida de distância definida (ex: Euclidiana).</li>\n",
    "    <li>Não precisa definir o número de clusters, mas pode-se cortar o dendrograma para escolher um número apropriado.</li>\n",
    "</ol>\n",
    "\n",
    "<h3>✅ Vantagens</h3>\n",
    "<ul>\n",
    "    <li>Não requer definir k inicialmente.</li>\n",
    "    <li>Gera dendrogramas interpretáveis.</li>\n",
    "    <li>Permite análise visual de diferentes níveis de agrupamento.</li>\n",
    "</ul>\n",
    "\n",
    "<h3>❌ Desvantagens</h3>\n",
    "<ul>\n",
    "    <li>Custo computacional alto: O(n²), inviável para datasets muito grandes.</li>\n",
    "    <li>Sensível a outliers e ruído.</li>\n",
    "    <li>Após mesclar clusters, não reverte decisões.</li>\n",
    "</ul>\n",
    "\n",
    "<h3>💼 Aplicações comuns</h3>\n",
    "<ul>\n",
    "    <li>📊 Análise exploratória de dados\n",
    "        <ul>\n",
    "            <li>Identificar padrões e agrupamentos naturais.</li>\n",
    "            <li>Análise de comportamento de consumidores.</li>\n",
    "        </ul>\n",
    "    </li>\n",
    "    <li>🧬 Bioinformática\n",
    "        <ul>\n",
    "            <li>Agrupamento de genes ou amostras genéticas com base em similaridade.</li>\n",
    "        </ul>\n",
    "    </li>\n",
    "    <li>📚 NLP\n",
    "        <ul>\n",
    "            <li>Agrupamento de documentos ou palavras com base em vetores de similaridade</li>\n",
    "        </ul>\n",
    "    </li>\n",
    "    <li>🧠 Psicologia e Ciências Sociais\n",
    "        <ul>\n",
    "            <li>Análise de perfis de participantes em estudos experimentais.</li>\n",
    "        </ul>\n",
    "    </li>\n",
    "</ul>\n",
    "\n",
    "\n",
    "\n",
    "\n",
    "\n",
    "\n",
    "\n",
    "\n",
    "\n",
    "\n",
    ".\n",
    "\n",
    "\n",
    "\n",
    "\n",
    "\n",
    "\n",
    "\n",
    "\n",
    "\n",
    "\n"
   ]
  },
  {
   "cell_type": "markdown",
   "id": "84e481f6-1d36-46ce-90a2-3afe65d2767f",
   "metadata": {},
   "source": [
    "<h2>Iniciando o ambiente</h2>"
   ]
  },
  {
   "cell_type": "code",
   "execution_count": 9,
   "id": "0437780c-c161-4ede-8af0-0142c4c5cd58",
   "metadata": {},
   "outputs": [],
   "source": [
    "import numpy as np\n",
    "import pandas as pd\n",
    "\n",
    "import matplotlib.pyplot as plt\n",
    "from pylab import rcParams\n",
    "import seaborn as sb\n",
    "\n",
    "import sklearn\n",
    "import sklearn.metrics as sm\n",
    "from sklearn.cluster import AgglomerativeClustering\n",
    "\n",
    "import scipy\n",
    "from scipy.cluster.hierarchy import dendrogram, linkage\n",
    "from scipy.cluster.hierarchy import fcluster\n",
    "from scipy.cluster.hierarchy import cophenet\n",
    "from scipy.spatial.distance import pdist \n"
   ]
  },
  {
   "cell_type": "markdown",
   "id": "327c6a4b-51d9-4912-8836-981fb4969e74",
   "metadata": {},
   "source": [
    "<h2>Importando os dados a serem analisados</h2>"
   ]
  },
  {
   "cell_type": "code",
   "execution_count": 13,
   "id": "49718425-cc8a-4b03-b4d8-2f93c8e5f8e6",
   "metadata": {},
   "outputs": [
    {
     "data": {
      "text/html": [
       "<div>\n",
       "<style scoped>\n",
       "    .dataframe tbody tr th:only-of-type {\n",
       "        vertical-align: middle;\n",
       "    }\n",
       "\n",
       "    .dataframe tbody tr th {\n",
       "        vertical-align: top;\n",
       "    }\n",
       "\n",
       "    .dataframe thead th {\n",
       "        text-align: right;\n",
       "    }\n",
       "</style>\n",
       "<table border=\"1\" class=\"dataframe\">\n",
       "  <thead>\n",
       "    <tr style=\"text-align: right;\">\n",
       "      <th></th>\n",
       "      <th>car_name</th>\n",
       "      <th>mpg</th>\n",
       "      <th>cyl</th>\n",
       "      <th>disp</th>\n",
       "      <th>hp</th>\n",
       "      <th>drat</th>\n",
       "      <th>wt</th>\n",
       "      <th>qsec</th>\n",
       "      <th>vs</th>\n",
       "      <th>am</th>\n",
       "      <th>gear</th>\n",
       "      <th>carb</th>\n",
       "    </tr>\n",
       "  </thead>\n",
       "  <tbody>\n",
       "    <tr>\n",
       "      <th>0</th>\n",
       "      <td>Mazda RX4</td>\n",
       "      <td>21.0</td>\n",
       "      <td>6</td>\n",
       "      <td>160.0</td>\n",
       "      <td>110</td>\n",
       "      <td>3.90</td>\n",
       "      <td>2.620</td>\n",
       "      <td>16.46</td>\n",
       "      <td>0</td>\n",
       "      <td>1</td>\n",
       "      <td>4</td>\n",
       "      <td>4</td>\n",
       "    </tr>\n",
       "    <tr>\n",
       "      <th>1</th>\n",
       "      <td>Mazda RX4 Wag</td>\n",
       "      <td>21.0</td>\n",
       "      <td>6</td>\n",
       "      <td>160.0</td>\n",
       "      <td>110</td>\n",
       "      <td>3.90</td>\n",
       "      <td>2.875</td>\n",
       "      <td>17.02</td>\n",
       "      <td>0</td>\n",
       "      <td>1</td>\n",
       "      <td>4</td>\n",
       "      <td>4</td>\n",
       "    </tr>\n",
       "    <tr>\n",
       "      <th>2</th>\n",
       "      <td>Datsun 710</td>\n",
       "      <td>22.8</td>\n",
       "      <td>4</td>\n",
       "      <td>108.0</td>\n",
       "      <td>93</td>\n",
       "      <td>3.85</td>\n",
       "      <td>2.320</td>\n",
       "      <td>18.61</td>\n",
       "      <td>1</td>\n",
       "      <td>1</td>\n",
       "      <td>4</td>\n",
       "      <td>1</td>\n",
       "    </tr>\n",
       "    <tr>\n",
       "      <th>3</th>\n",
       "      <td>Hornet 4 Drive</td>\n",
       "      <td>21.4</td>\n",
       "      <td>6</td>\n",
       "      <td>258.0</td>\n",
       "      <td>110</td>\n",
       "      <td>3.08</td>\n",
       "      <td>3.215</td>\n",
       "      <td>19.44</td>\n",
       "      <td>1</td>\n",
       "      <td>0</td>\n",
       "      <td>3</td>\n",
       "      <td>1</td>\n",
       "    </tr>\n",
       "    <tr>\n",
       "      <th>4</th>\n",
       "      <td>Hornet Sportabout</td>\n",
       "      <td>18.7</td>\n",
       "      <td>8</td>\n",
       "      <td>360.0</td>\n",
       "      <td>175</td>\n",
       "      <td>3.15</td>\n",
       "      <td>3.440</td>\n",
       "      <td>17.02</td>\n",
       "      <td>0</td>\n",
       "      <td>0</td>\n",
       "      <td>3</td>\n",
       "      <td>2</td>\n",
       "    </tr>\n",
       "  </tbody>\n",
       "</table>\n",
       "</div>"
      ],
      "text/plain": [
       "            car_name   mpg  cyl   disp   hp  drat     wt   qsec  vs  am  gear  \\\n",
       "0          Mazda RX4  21.0    6  160.0  110  3.90  2.620  16.46   0   1     4   \n",
       "1      Mazda RX4 Wag  21.0    6  160.0  110  3.90  2.875  17.02   0   1     4   \n",
       "2         Datsun 710  22.8    4  108.0   93  3.85  2.320  18.61   1   1     4   \n",
       "3     Hornet 4 Drive  21.4    6  258.0  110  3.08  3.215  19.44   1   0     3   \n",
       "4  Hornet Sportabout  18.7    8  360.0  175  3.15  3.440  17.02   0   0     3   \n",
       "\n",
       "   carb  \n",
       "0     4  \n",
       "1     4  \n",
       "2     1  \n",
       "3     1  \n",
       "4     2  "
      ]
     },
     "execution_count": 13,
     "metadata": {},
     "output_type": "execute_result"
    }
   ],
   "source": [
    "cars = pd.read_csv('mtcars.csv')\n",
    "cars.rename(columns={'Unnamed: 0':'car_name'}, inplace=True)\n",
    "cars.head()"
   ]
  },
  {
   "cell_type": "code",
   "execution_count": 19,
   "id": "3de2aa30-c6f1-419e-8d53-6c7d37a751dc",
   "metadata": {},
   "outputs": [
    {
     "data": {
      "text/plain": [
       "array([[ 21.   , 160.   , 110.   ,   2.62 ],\n",
       "       [ 21.   , 160.   , 110.   ,   2.875],\n",
       "       [ 22.8  , 108.   ,  93.   ,   2.32 ],\n",
       "       [ 21.4  , 258.   , 110.   ,   3.215],\n",
       "       [ 18.7  , 360.   , 175.   ,   3.44 ],\n",
       "       [ 18.1  , 225.   , 105.   ,   3.46 ],\n",
       "       [ 14.3  , 360.   , 245.   ,   3.57 ],\n",
       "       [ 24.4  , 146.7  ,  62.   ,   3.19 ],\n",
       "       [ 22.8  , 140.8  ,  95.   ,   3.15 ],\n",
       "       [ 19.2  , 167.6  , 123.   ,   3.44 ],\n",
       "       [ 17.8  , 167.6  , 123.   ,   3.44 ],\n",
       "       [ 16.4  , 275.8  , 180.   ,   4.07 ],\n",
       "       [ 17.3  , 275.8  , 180.   ,   3.73 ],\n",
       "       [ 15.2  , 275.8  , 180.   ,   3.78 ],\n",
       "       [ 10.4  , 472.   , 205.   ,   5.25 ],\n",
       "       [ 10.4  , 460.   , 215.   ,   5.424],\n",
       "       [ 14.7  , 440.   , 230.   ,   5.345],\n",
       "       [ 32.4  ,  78.7  ,  66.   ,   2.2  ],\n",
       "       [ 30.4  ,  75.7  ,  52.   ,   1.615],\n",
       "       [ 33.9  ,  71.1  ,  65.   ,   1.835],\n",
       "       [ 21.5  , 120.1  ,  97.   ,   2.465],\n",
       "       [ 15.5  , 318.   , 150.   ,   3.52 ],\n",
       "       [ 15.2  , 304.   , 150.   ,   3.435],\n",
       "       [ 13.3  , 350.   , 245.   ,   3.84 ],\n",
       "       [ 19.2  , 400.   , 175.   ,   3.845],\n",
       "       [ 27.3  ,  79.   ,  66.   ,   1.935],\n",
       "       [ 26.   , 120.3  ,  91.   ,   2.14 ],\n",
       "       [ 30.4  ,  95.1  , 113.   ,   1.513],\n",
       "       [ 15.8  , 351.   , 264.   ,   3.17 ],\n",
       "       [ 19.7  , 145.   , 175.   ,   2.77 ],\n",
       "       [ 15.   , 301.   , 335.   ,   3.57 ],\n",
       "       [ 21.4  , 121.   , 109.   ,   2.78 ]])"
      ]
     },
     "execution_count": 19,
     "metadata": {},
     "output_type": "execute_result"
    }
   ],
   "source": [
    "X = cars[['mpg','disp','hp','wt']].values\n",
    "X"
   ]
  },
  {
   "cell_type": "code",
   "execution_count": 21,
   "id": "1ace9730-06e4-4da5-b50f-169f812a2e12",
   "metadata": {},
   "outputs": [
    {
     "data": {
      "text/plain": [
       "array([1, 1, 1, 0, 0, 0, 0, 0, 0, 0, 0, 0, 0, 0, 0, 0, 0, 1, 1, 1, 0, 0,\n",
       "       0, 0, 0, 1, 1, 1, 1, 1, 1, 1], dtype=int64)"
      ]
     },
     "execution_count": 21,
     "metadata": {},
     "output_type": "execute_result"
    }
   ],
   "source": [
    "y=cars['am'].values\n",
    "y"
   ]
  },
  {
   "cell_type": "markdown",
   "id": "29f38399-e1ac-4561-887b-428fc931589d",
   "metadata": {},
   "source": [
    "<h2>Usando o Scipy para gerar um dendrograma</h2>"
   ]
  },
  {
   "cell_type": "code",
   "execution_count": 33,
   "id": "52f87e61-4dbc-4ccb-b40e-3c4f5012d151",
   "metadata": {},
   "outputs": [
    {
     "data": {
      "image/png": "[encoded data removed]",
      "text/plain": [
       "<Figure size 640x480 with 1 Axes>"
      ]
     },
     "metadata": {},
     "output_type": "display_data"
    }
   ],
   "source": [
    "\n",
    "Z=linkage(X,'ward')\n",
    "dendrogram(Z, p=12, truncate_mode='lastp', leaf_font_size=15, leaf_rotation=45, show_contracted=True)\n",
    "plt.title('Trucate Hierarchical Clustering Diagram')\n",
    "plt.xlabel('Cluster Size')\n",
    "plt.ylabel('Distance')\n",
    "\n",
    "plt.axhline(500)\n",
    "plt.axhline(150)\n",
    "\n",
    "plt.show()\n"
   ]
  },
  {
   "cell_type": "markdown",
   "id": "e777bc12-2c2e-4ddc-a87d-fa6a5a15f435",
   "metadata": {},
   "source": [
    "<h2>Gerando o Hierarchical Cluster</h2>"
   ]
  },
  {
   "cell_type": "markdown",
   "id": "8aef144c-e09b-4739-896d-922c020bc531",
   "metadata": {},
   "source": [
    "<h4>euclidean/ward</h4>"
   ]
  },
  {
   "cell_type": "code",
   "execution_count": 53,
   "id": "7c777221-1845-4ce4-ae81-5d0c3095e7fc",
   "metadata": {},
   "outputs": [
    {
     "data": {
      "text/plain": [
       "0.78125"
      ]
     },
     "execution_count": 53,
     "metadata": {},
     "output_type": "execute_result"
    }
   ],
   "source": [
    "k=2\n",
    "\n",
    "h_clustering = AgglomerativeClustering(n_clusters=k,  metric='euclidean', linkage='ward')\n",
    "h_clustering.fit(X)\n",
    "\n",
    "sm.accuracy_score(y, h_clustering.labels_)\n"
   ]
  },
  {
   "cell_type": "markdown",
   "id": "d26afbe9-0e07-4995-899a-2776faeb3b4c",
   "metadata": {},
   "source": [
    "<h3>Demais métricas e linkages</h3>\n",
    "<ul><li>metric : str or callable, default=\"euclidean\"</li>\n",
    "    <ul><li>Metric used to compute the linkage. Can be \"euclidean\", \"l1\", \"l2\",<br>\n",
    "    \"manhattan\", \"cosine\", or \"precomputed\". If linkage is \"ward\", only<br>\n",
    "    \"euclidean\" is accepted. If \"precomputed\", a distance matrix is needed<br>\n",
    "    as input for the fit method.</li></ul>\n",
    "</ul>\n",
    "<ul><li>linkage : {'ward', 'complete', 'average', 'single'}, default='ward'</li>\n",
    "    <ul><li>Which linkage criterion to use. The linkage criterion determines which<br>\n",
    "    distance to use between sets of observation. The algorithm will merge<br>\n",
    "    the pairs of cluster that minimize this criterion. </li></ul>\n",
    "</ul>"
   ]
  },
  {
   "cell_type": "markdown",
   "id": "d7384c23-cd22-4602-862f-f7a79d1ac000",
   "metadata": {},
   "source": [
    "<h4>euclidean/average</h4>"
   ]
  },
  {
   "cell_type": "code",
   "execution_count": 55,
   "id": "efb8bdc5-433a-4b5b-b35b-61c05e95ca5c",
   "metadata": {},
   "outputs": [
    {
     "data": {
      "text/plain": [
       "0.78125"
      ]
     },
     "execution_count": 55,
     "metadata": {},
     "output_type": "execute_result"
    }
   ],
   "source": [
    "k=2\n",
    "\n",
    "h_clustering = AgglomerativeClustering(n_clusters=k,  metric='euclidean', linkage='average')\n",
    "h_clustering.fit(X)\n",
    "\n",
    "sm.accuracy_score(y, h_clustering.labels_)"
   ]
  },
  {
   "cell_type": "markdown",
   "id": "6ef99b63-f551-4960-b37c-bc688de0271c",
   "metadata": {},
   "source": [
    "<h4>manhattan/average</h4>"
   ]
  },
  {
   "cell_type": "code",
   "execution_count": 57,
   "id": "f00ce4dd-a42a-45ed-b739-1f79eefa684c",
   "metadata": {},
   "outputs": [
    {
     "data": {
      "text/plain": [
       "0.71875"
      ]
     },
     "execution_count": 57,
     "metadata": {},
     "output_type": "execute_result"
    }
   ],
   "source": [
    "\n",
    "h_clustering = AgglomerativeClustering(n_clusters=k,  metric='manhattan', linkage='average')\n",
    "h_clustering.fit(X)\n",
    "\n",
    "sm.accuracy_score(y, h_clustering.labels_)"
   ]
  },
  {
   "cell_type": "markdown",
   "id": "af8ef40a-71c7-4298-8bf2-2f480f71fe27",
   "metadata": {},
   "source": [
    "<h4>cosine/average</h4>"
   ]
  },
  {
   "cell_type": "code",
   "execution_count": 59,
   "id": "c874aa48-9175-4e98-9959-692fa6c491bf",
   "metadata": {},
   "outputs": [
    {
     "data": {
      "text/plain": [
       "0.1875"
      ]
     },
     "execution_count": 59,
     "metadata": {},
     "output_type": "execute_result"
    }
   ],
   "source": [
    "\n",
    "h_clustering = AgglomerativeClustering(n_clusters=k,  metric='cosine', linkage='average')\n",
    "h_clustering.fit(X)\n",
    "\n",
    "sm.accuracy_score(y, h_clustering.labels_)"
   ]
  },
  {
   "cell_type": "markdown",
   "id": "f30317e9-a454-4554-8848-c474f2060c18",
   "metadata": {},
   "source": [
    "<h4>L1/average</h4>"
   ]
  },
  {
   "cell_type": "code",
   "execution_count": 61,
   "id": "54bd99d9-ce73-4f4d-8f85-0de9b04a8da6",
   "metadata": {},
   "outputs": [
    {
     "data": {
      "text/plain": [
       "0.71875"
      ]
     },
     "execution_count": 61,
     "metadata": {},
     "output_type": "execute_result"
    }
   ],
   "source": [
    "\n",
    "h_clustering = AgglomerativeClustering(n_clusters=k,  metric='l1', linkage='average')\n",
    "h_clustering.fit(X)\n",
    "\n",
    "sm.accuracy_score(y, h_clustering.labels_)"
   ]
  },
  {
   "cell_type": "markdown",
   "id": "d9a9469e-d872-4ca7-a0a8-49905a05a030",
   "metadata": {},
   "source": [
    "<h4>L2/average</h4>"
   ]
  },
  {
   "cell_type": "code",
   "execution_count": 63,
   "id": "43d3eb56-4ab4-4422-91ff-10345edb3708",
   "metadata": {},
   "outputs": [
    {
     "data": {
      "text/plain": [
       "0.78125"
      ]
     },
     "execution_count": 63,
     "metadata": {},
     "output_type": "execute_result"
    }
   ],
   "source": [
    "\n",
    "h_clustering = AgglomerativeClustering(n_clusters=k,  metric='l2', linkage='average')\n",
    "h_clustering.fit(X)\n",
    "\n",
    "sm.accuracy_score(y, h_clustering.labels_)"
   ]
  },
  {
   "cell_type": "code",
   "execution_count": null,
   "id": "057db407-bb98-4bcb-9b30-37ac0a97b839",
   "metadata": {},
   "outputs": [],
   "source": []
  }
 ],
 "metadata": {
  "kernelspec": {
   "display_name": "Python 3 (ipykernel)",
   "language": "python",
   "name": "python3"
  },
  "language_info": {
   "codemirror_mode": {
    "name": "ipython",
    "version": 3
   },
   "file_extension": ".py",
   "mimetype": "text/x-python",
   "name": "python",
   "nbconvert_exporter": "python",
   "pygments_lexer": "ipython3",
   "version": "3.12.7"
  }
 },
 "nbformat": 4,
 "nbformat_minor": 5
}
