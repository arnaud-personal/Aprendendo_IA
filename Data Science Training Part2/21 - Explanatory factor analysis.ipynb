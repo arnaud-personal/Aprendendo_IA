{
 "cells": [
  {
   "cell_type": "markdown",
   "id": "93e9ce50-d9be-4068-a59d-e35b8c8d392a",
   "metadata": {},
   "source": [
    "<h1>Factor Analisys</h1>"
   ]
  },
  {
   "cell_type": "markdown",
   "id": "535fe5fa-929b-4b68-ad8e-ecdbc8043180",
   "metadata": {},
   "source": [
    "Técnica de redução de dimensionalidade e descoberta\n",
    "de fatores latentes em um conjunto de variáveis.\n",
    "\n",
    "<h3>Qual é o objetivo do Factor Analisys?</h3>\n",
    "<ul>\n",
    "    <li>Tentar explicar as correlações entre variáveis observadas através de um número reduzido de fatores ocultos (latentes).<br>\n",
    "    Você tem muitas variáveis observadas → x1, x2, x3, ... Quer descobrir se elas podem ser explicadas por um número menor de fatores → f1, f2, ...</li>\n",
    "    <li>Cada fator representa um conceito subjacente, que não é medido diretamente.</li>\n",
    "</ul>\n",
    "                       \n",
    "<h3>Muito usada em:</h3>\n",
    "<ul>\n",
    "    <li>Ciências sociais (psicologia, sociologia, marketing)</li>\n",
    "    <li>Pesquisa de mercado</li>\n",
    "    <li>Economia</li>\n",
    "    <li>Machine Learning (como parte do pré-processamento em alguns casos)   </li>\n",
    "</ul>"
   ]
  },
  {
   "cell_type": "markdown",
   "id": "eb356dc8-75c9-4622-88a9-2e87c823084d",
   "metadata": {},
   "source": [
    "<h2>Iniciando o ambiente</h2>"
   ]
  },
  {
   "cell_type": "code",
   "execution_count": 2,
   "id": "5e9d9069-8f2e-4df3-9e91-2f5cf2165cdb",
   "metadata": {},
   "outputs": [],
   "source": [
    "import numpy as np\n",
    "import pandas as pd\n",
    "\n",
    "import sklearn\n",
    "from sklearn import datasets\n",
    "from sklearn.decomposition import FactorAnalysis\n"
   ]
  },
  {
   "cell_type": "markdown",
   "id": "a260ab2e-e809-46fa-963e-38efb2a78bf1",
   "metadata": {},
   "source": [
    "<h2>Obtendo dataset de iris.data</h2>"
   ]
  },
  {
   "cell_type": "code",
   "execution_count": 3,
   "id": "a2bc5c20-d5e5-47a9-8aee-83d544a3db08",
   "metadata": {},
   "outputs": [
    {
     "data": {
      "text/html": [
       "<div>\n",
       "<style scoped>\n",
       "    .dataframe tbody tr th:only-of-type {\n",
       "        vertical-align: middle;\n",
       "    }\n",
       "\n",
       "    .dataframe tbody tr th {\n",
       "        vertical-align: top;\n",
       "    }\n",
       "\n",
       "    .dataframe thead th {\n",
       "        text-align: right;\n",
       "    }\n",
       "</style>\n",
       "<table border=\"1\" class=\"dataframe\">\n",
       "  <thead>\n",
       "    <tr style=\"text-align: right;\">\n",
       "      <th></th>\n",
       "      <th>Sepal_Length</th>\n",
       "      <th>Sepal_Width</th>\n",
       "      <th>Petal_Length</th>\n",
       "      <th>Petal_Width</th>\n",
       "      <th>Species</th>\n",
       "    </tr>\n",
       "  </thead>\n",
       "  <tbody>\n",
       "    <tr>\n",
       "      <th>0</th>\n",
       "      <td>4.9</td>\n",
       "      <td>3.0</td>\n",
       "      <td>1.4</td>\n",
       "      <td>0.2</td>\n",
       "      <td>setosa</td>\n",
       "    </tr>\n",
       "    <tr>\n",
       "      <th>1</th>\n",
       "      <td>4.7</td>\n",
       "      <td>3.2</td>\n",
       "      <td>1.3</td>\n",
       "      <td>0.2</td>\n",
       "      <td>setosa</td>\n",
       "    </tr>\n",
       "    <tr>\n",
       "      <th>2</th>\n",
       "      <td>4.6</td>\n",
       "      <td>3.1</td>\n",
       "      <td>1.5</td>\n",
       "      <td>0.2</td>\n",
       "      <td>setosa</td>\n",
       "    </tr>\n",
       "    <tr>\n",
       "      <th>3</th>\n",
       "      <td>5.0</td>\n",
       "      <td>3.6</td>\n",
       "      <td>1.4</td>\n",
       "      <td>0.2</td>\n",
       "      <td>setosa</td>\n",
       "    </tr>\n",
       "    <tr>\n",
       "      <th>4</th>\n",
       "      <td>5.4</td>\n",
       "      <td>3.9</td>\n",
       "      <td>1.7</td>\n",
       "      <td>0.4</td>\n",
       "      <td>setosa</td>\n",
       "    </tr>\n",
       "  </tbody>\n",
       "</table>\n",
       "</div>"
      ],
      "text/plain": [
       "   Sepal_Length  Sepal_Width  Petal_Length  Petal_Width Species\n",
       "0           4.9          3.0           1.4          0.2  setosa\n",
       "1           4.7          3.2           1.3          0.2  setosa\n",
       "2           4.6          3.1           1.5          0.2  setosa\n",
       "3           5.0          3.6           1.4          0.2  setosa\n",
       "4           5.4          3.9           1.7          0.4  setosa"
      ]
     },
     "execution_count": 3,
     "metadata": {},
     "output_type": "execute_result"
    }
   ],
   "source": [
    "df = pd.read_csv('iris.data.csv')\n",
    "df.columns = ['Sepal_Length', 'Sepal_Width', 'Petal_Length', 'Petal_Width', 'Species']\n",
    "df.head()"
   ]
  },
  {
   "cell_type": "code",
   "execution_count": 4,
   "id": "12c5d526-f631-43f3-8422-40d4d8736fc0",
   "metadata": {},
   "outputs": [
    {
     "data": {
      "text/plain": [
       "array([[4.9, 3. , 1.4, 0.2],\n",
       "       [4.7, 3.2, 1.3, 0.2],\n",
       "       [4.6, 3.1, 1.5, 0.2],\n",
       "       [5. , 3.6, 1.4, 0.2],\n",
       "       [5.4, 3.9, 1.7, 0.4]])"
      ]
     },
     "execution_count": 4,
     "metadata": {},
     "output_type": "execute_result"
    }
   ],
   "source": [
    "X = df[['Sepal_Length', 'Sepal_Width', 'Petal_Length', 'Petal_Width']].values\n",
    "X[:5]"
   ]
  },
  {
   "cell_type": "code",
   "execution_count": 5,
   "id": "7f80390f-e552-44f8-aaea-be040b32c576",
   "metadata": {},
   "outputs": [
    {
     "data": {
      "text/plain": [
       "array(['Sepal_Length', 'Sepal_Width', 'Petal_Length', 'Petal_Width'],\n",
       "      dtype=object)"
      ]
     },
     "execution_count": 5,
     "metadata": {},
     "output_type": "execute_result"
    }
   ],
   "source": [
    "variable_names = df.columns.values\n",
    "variable_names = np.delete(variable_names, 4)\n",
    "variable_names"
   ]
  },
  {
   "cell_type": "markdown",
   "id": "d9cfd8f2-2a18-420f-a684-16ef3daedc6b",
   "metadata": {},
   "source": [
    "<h2>criando e treinando o modelo</h2>"
   ]
  },
  {
   "cell_type": "code",
   "execution_count": 6,
   "id": "4f92b2be-37d7-4b72-8383-3fec28294b12",
   "metadata": {},
   "outputs": [],
   "source": [
    "factor = FactorAnalysis().fit(X)"
   ]
  },
  {
   "cell_type": "markdown",
   "id": "33411985-f48a-4c83-bb1e-e0b2ce061068",
   "metadata": {},
   "source": [
    "<h2>Analisando os resultados</h2>\n",
    "Valores altos (positivos ou negativos) indicam forte associação."
   ]
  },
  {
   "cell_type": "code",
   "execution_count": 19,
   "id": "886f4f7f-ac25-4034-98f1-83cd39fdef06",
   "metadata": {},
   "outputs": [
    {
     "data": {
      "text/html": [
       "<div>\n",
       "<style scoped>\n",
       "    .dataframe tbody tr th:only-of-type {\n",
       "        vertical-align: middle;\n",
       "    }\n",
       "\n",
       "    .dataframe tbody tr th {\n",
       "        vertical-align: top;\n",
       "    }\n",
       "\n",
       "    .dataframe thead th {\n",
       "        text-align: right;\n",
       "    }\n",
       "</style>\n",
       "<table border=\"1\" class=\"dataframe\">\n",
       "  <thead>\n",
       "    <tr style=\"text-align: right;\">\n",
       "      <th></th>\n",
       "      <th>Sepal_Length</th>\n",
       "      <th>Sepal_Width</th>\n",
       "      <th>Petal_Length</th>\n",
       "      <th>Petal_Width</th>\n",
       "    </tr>\n",
       "  </thead>\n",
       "  <tbody>\n",
       "    <tr>\n",
       "      <th>0</th>\n",
       "      <td>0.707089</td>\n",
       "      <td>-0.155467</td>\n",
       "      <td>1.649025</td>\n",
       "      <td>0.698661</td>\n",
       "    </tr>\n",
       "    <tr>\n",
       "      <th>1</th>\n",
       "      <td>0.115092</td>\n",
       "      <td>0.160055</td>\n",
       "      <td>-0.044791</td>\n",
       "      <td>-0.014181</td>\n",
       "    </tr>\n",
       "    <tr>\n",
       "      <th>2</th>\n",
       "      <td>-0.000000</td>\n",
       "      <td>0.000000</td>\n",
       "      <td>0.000000</td>\n",
       "      <td>0.000000</td>\n",
       "    </tr>\n",
       "    <tr>\n",
       "      <th>3</th>\n",
       "      <td>-0.000000</td>\n",
       "      <td>0.000000</td>\n",
       "      <td>0.000000</td>\n",
       "      <td>-0.000000</td>\n",
       "    </tr>\n",
       "  </tbody>\n",
       "</table>\n",
       "</div>"
      ],
      "text/plain": [
       "   Sepal_Length  Sepal_Width  Petal_Length  Petal_Width\n",
       "0      0.707089    -0.155467      1.649025     0.698661\n",
       "1      0.115092     0.160055     -0.044791    -0.014181\n",
       "2     -0.000000     0.000000      0.000000     0.000000\n",
       "3     -0.000000     0.000000      0.000000    -0.000000"
      ]
     },
     "execution_count": 19,
     "metadata": {},
     "output_type": "execute_result"
    }
   ],
   "source": [
    "df = pd.DataFrame(factor.components_, columns=variable_names)\n",
    "df\n"
   ]
  }
 ],
 "metadata": {
  "kernelspec": {
   "display_name": "Python 3 (ipykernel)",
   "language": "python",
   "name": "python3"
  },
  "language_info": {
   "codemirror_mode": {
    "name": "ipython",
    "version": 3
   },
   "file_extension": ".py",
   "mimetype": "text/x-python",
   "name": "python",
   "nbconvert_exporter": "python",
   "pygments_lexer": "ipython3",
   "version": "3.12.7"
  }
 },
 "nbformat": 4,
 "nbformat_minor": 5
}
