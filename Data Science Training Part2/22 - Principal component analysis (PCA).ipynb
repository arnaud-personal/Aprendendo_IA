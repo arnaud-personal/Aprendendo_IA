{
 "cells": [
  {
   "cell_type": "markdown",
   "id": "e123df52-d694-4ee1-b7b1-2fd954827838",
   "metadata": {},
   "source": [
    "<h1>Principal component analysis (PCA)</h1>"
   ]
  },
  {
   "cell_type": "markdown",
   "id": "05e5bad7-2b33-4995-b766-abd6dd44cde9",
   "metadata": {},
   "source": [
    "Método de redução de dimensionalidade.<br>\n",
    "Transforma um conjunto de variáveis correlacionadas em <br>\n",
    "um novo conjunto de variáveis não correlacionadas, <br>\n",
    "chamadas de componentes principais.<br>\n",
    "Esses componentes explicam a maior parte da variância dos dados, <br>\n",
    "om o menor número possível de dimensões.<br><br>\n",
    "\n",
    "O PCA ajuda você a simplificar dados complexos mantendo o máximo de informação possível.<br><br>\n",
    "\n",
    "\n",
    "<h4>Interpretação:</h4>\n",
    "                                       \n",
    "Após o PCA, cada componente principal é uma combinação das variáveis originais.\n",
    "Você pode:<br>\n",
    "\n",
    "✅ plotar um gráfico 2D dos dados no espaço dos componentes<br>\n",
    "✅ usar os componentes como features para clustering ou classificação<br>\n",
    "✅ visualizar estrutura dos dados (muito usado no Iris, MNIST, etc.)        "
   ]
  },
  {
   "cell_type": "markdown",
   "id": "fcd65587-1d28-438b-acde-16092ccafd8c",
   "metadata": {},
   "source": [
    "<h2>Iniciando o ambiente</h2>"
   ]
  },
  {
   "cell_type": "code",
   "execution_count": 13,
   "id": "6f9b4d5b-2a81-4e39-b0ad-2c4c30c83845",
   "metadata": {},
   "outputs": [],
   "source": [
    "import numpy as np\n",
    "import pandas as pd\n",
    "\n",
    "import matplotlib.pyplot as plt\n",
    "import pylab as pil\n",
    "from pylab import rcParams\n",
    "import seaborn as sb\n",
    "\n",
    "from IPython.display import Image\n",
    "from IPython.core.display import HTML\n",
    "\n",
    "\n",
    "import sklearn\n",
    "from sklearn import datasets\n",
    "from sklearn.decomposition import PCA\n"
   ]
  },
  {
   "cell_type": "code",
   "execution_count": 17,
   "id": "8be57197-5524-4145-af03-f9fd51dc67c5",
   "metadata": {},
   "outputs": [],
   "source": [
    "sb.set_style('whitegrid')\n",
    "rcParams['figure.figsize'] = 5,4\n"
   ]
  },
  {
   "cell_type": "markdown",
   "id": "9e7cfc36-83b6-4269-8e15-2dddeeb65c55",
   "metadata": {},
   "source": [
    "<h2>Obtendo dataset iris.data</h2>"
   ]
  },
  {
   "cell_type": "code",
   "execution_count": 20,
   "id": "6a670412-afc1-436b-91cc-aeaecc0a06d1",
   "metadata": {},
   "outputs": [
    {
     "data": {
      "text/html": [
       "<div>\n",
       "<style scoped>\n",
       "    .dataframe tbody tr th:only-of-type {\n",
       "        vertical-align: middle;\n",
       "    }\n",
       "\n",
       "    .dataframe tbody tr th {\n",
       "        vertical-align: top;\n",
       "    }\n",
       "\n",
       "    .dataframe thead th {\n",
       "        text-align: right;\n",
       "    }\n",
       "</style>\n",
       "<table border=\"1\" class=\"dataframe\">\n",
       "  <thead>\n",
       "    <tr style=\"text-align: right;\">\n",
       "      <th></th>\n",
       "      <th>Sepal_Length</th>\n",
       "      <th>Sepal_Width</th>\n",
       "      <th>Petal_Length</th>\n",
       "      <th>Petal_Width</th>\n",
       "      <th>Species</th>\n",
       "    </tr>\n",
       "  </thead>\n",
       "  <tbody>\n",
       "    <tr>\n",
       "      <th>0</th>\n",
       "      <td>4.9</td>\n",
       "      <td>3.0</td>\n",
       "      <td>1.4</td>\n",
       "      <td>0.2</td>\n",
       "      <td>setosa</td>\n",
       "    </tr>\n",
       "    <tr>\n",
       "      <th>1</th>\n",
       "      <td>4.7</td>\n",
       "      <td>3.2</td>\n",
       "      <td>1.3</td>\n",
       "      <td>0.2</td>\n",
       "      <td>setosa</td>\n",
       "    </tr>\n",
       "    <tr>\n",
       "      <th>2</th>\n",
       "      <td>4.6</td>\n",
       "      <td>3.1</td>\n",
       "      <td>1.5</td>\n",
       "      <td>0.2</td>\n",
       "      <td>setosa</td>\n",
       "    </tr>\n",
       "    <tr>\n",
       "      <th>3</th>\n",
       "      <td>5.0</td>\n",
       "      <td>3.6</td>\n",
       "      <td>1.4</td>\n",
       "      <td>0.2</td>\n",
       "      <td>setosa</td>\n",
       "    </tr>\n",
       "    <tr>\n",
       "      <th>4</th>\n",
       "      <td>5.4</td>\n",
       "      <td>3.9</td>\n",
       "      <td>1.7</td>\n",
       "      <td>0.4</td>\n",
       "      <td>setosa</td>\n",
       "    </tr>\n",
       "  </tbody>\n",
       "</table>\n",
       "</div>"
      ],
      "text/plain": [
       "   Sepal_Length  Sepal_Width  Petal_Length  Petal_Width Species\n",
       "0           4.9          3.0           1.4          0.2  setosa\n",
       "1           4.7          3.2           1.3          0.2  setosa\n",
       "2           4.6          3.1           1.5          0.2  setosa\n",
       "3           5.0          3.6           1.4          0.2  setosa\n",
       "4           5.4          3.9           1.7          0.4  setosa"
      ]
     },
     "execution_count": 20,
     "metadata": {},
     "output_type": "execute_result"
    }
   ],
   "source": [
    "df = pd.read_csv('iris.data.csv')\n",
    "df.columns = ['Sepal_Length', 'Sepal_Width', 'Petal_Length', 'Petal_Width', 'Species']\n",
    "df.head()\n"
   ]
  },
  {
   "cell_type": "code",
   "execution_count": 23,
   "id": "e4c68c06-eee3-4400-a9da-2863e6f6e22c",
   "metadata": {},
   "outputs": [
    {
     "data": {
      "text/plain": [
       "array([[4.9, 3. , 1.4, 0.2],\n",
       "       [4.7, 3.2, 1.3, 0.2],\n",
       "       [4.6, 3.1, 1.5, 0.2],\n",
       "       [5. , 3.6, 1.4, 0.2],\n",
       "       [5.4, 3.9, 1.7, 0.4]])"
      ]
     },
     "execution_count": 23,
     "metadata": {},
     "output_type": "execute_result"
    }
   ],
   "source": [
    "X = df[['Sepal_Length', 'Sepal_Width', 'Petal_Length', 'Petal_Width']].values\n",
    "X[:5]"
   ]
  },
  {
   "cell_type": "code",
   "execution_count": 30,
   "id": "1a248541-ce02-45f3-b9f1-466c9514564a",
   "metadata": {},
   "outputs": [
    {
     "data": {
      "text/plain": [
       "array(['Sepal_Length', 'Sepal_Width', 'Petal_Length', 'Petal_Width'],\n",
       "      dtype=object)"
      ]
     },
     "execution_count": 30,
     "metadata": {},
     "output_type": "execute_result"
    }
   ],
   "source": [
    "\n",
    "variable_names = df.columns.values\n",
    "variable_names = np.delete(variable_names, 4)\n",
    "variable_names\n"
   ]
  },
  {
   "cell_type": "markdown",
   "id": "b0554961-ddc5-4ee5-9013-3474278f7fd3",
   "metadata": {},
   "source": [
    "<h2>Construindo e treinando o modelo</h2>"
   ]
  },
  {
   "cell_type": "code",
   "execution_count": 32,
   "id": "2dae2d41-3a0b-4c20-9798-6416f7fca674",
   "metadata": {},
   "outputs": [
    {
     "data": {
      "text/plain": [
       "array([0.92395143, 0.05349142, 0.01728809, 0.00526906])"
      ]
     },
     "execution_count": 32,
     "metadata": {},
     "output_type": "execute_result"
    }
   ],
   "source": [
    "pca = PCA()\n",
    "iris_pca=pca.fit_transform(X)\n",
    "\n",
    "pca.explained_variance_ratio_"
   ]
  },
  {
   "cell_type": "code",
   "execution_count": 34,
   "id": "2f30b3e2-e88b-4d63-8239-2cdfdcd6531f",
   "metadata": {},
   "outputs": [
    {
     "data": {
      "text/plain": [
       "1.0"
      ]
     },
     "execution_count": 34,
     "metadata": {},
     "output_type": "execute_result"
    }
   ],
   "source": [
    "pca.explained_variance_ratio_.sum()"
   ]
  },
  {
   "cell_type": "code",
   "execution_count": 43,
   "id": "d6dd74a0-6e72-44a8-b94b-c855842f63e8",
   "metadata": {},
   "outputs": [
    {
     "data": {
      "text/html": [
       "<div>\n",
       "<style scoped>\n",
       "    .dataframe tbody tr th:only-of-type {\n",
       "        vertical-align: middle;\n",
       "    }\n",
       "\n",
       "    .dataframe tbody tr th {\n",
       "        vertical-align: top;\n",
       "    }\n",
       "\n",
       "    .dataframe thead th {\n",
       "        text-align: right;\n",
       "    }\n",
       "</style>\n",
       "<table border=\"1\" class=\"dataframe\">\n",
       "  <thead>\n",
       "    <tr style=\"text-align: right;\">\n",
       "      <th></th>\n",
       "      <th>Sepal_Length</th>\n",
       "      <th>Sepal_Width</th>\n",
       "      <th>Petal_Length</th>\n",
       "      <th>Petal_Width</th>\n",
       "    </tr>\n",
       "  </thead>\n",
       "  <tbody>\n",
       "    <tr>\n",
       "      <th>0</th>\n",
       "      <td>0.362427</td>\n",
       "      <td>-0.083525</td>\n",
       "      <td>0.856400</td>\n",
       "      <td>0.358118</td>\n",
       "    </tr>\n",
       "    <tr>\n",
       "      <th>1</th>\n",
       "      <td>0.655833</td>\n",
       "      <td>0.730515</td>\n",
       "      <td>-0.174593</td>\n",
       "      <td>-0.075822</td>\n",
       "    </tr>\n",
       "    <tr>\n",
       "      <th>2</th>\n",
       "      <td>-0.582227</td>\n",
       "      <td>0.597626</td>\n",
       "      <td>0.076403</td>\n",
       "      <td>0.545910</td>\n",
       "    </tr>\n",
       "    <tr>\n",
       "      <th>3</th>\n",
       "      <td>0.315503</td>\n",
       "      <td>-0.319710</td>\n",
       "      <td>-0.479852</td>\n",
       "      <td>0.753648</td>\n",
       "    </tr>\n",
       "  </tbody>\n",
       "</table>\n",
       "</div>"
      ],
      "text/plain": [
       "   Sepal_Length  Sepal_Width  Petal_Length  Petal_Width\n",
       "0      0.362427    -0.083525      0.856400     0.358118\n",
       "1      0.655833     0.730515     -0.174593    -0.075822\n",
       "2     -0.582227     0.597626      0.076403     0.545910\n",
       "3      0.315503    -0.319710     -0.479852     0.753648"
      ]
     },
     "execution_count": 43,
     "metadata": {},
     "output_type": "execute_result"
    }
   ],
   "source": [
    "\n",
    "comps = pd.DataFrame(pca.components_, columns=variable_names)\n",
    "comps\n"
   ]
  },
  {
   "cell_type": "code",
   "execution_count": 45,
   "id": "cb757f31-a628-462f-b01b-0a54e1eb7e6e",
   "metadata": {},
   "outputs": [
    {
     "data": {
      "text/plain": [
       "<Axes: >"
      ]
     },
     "execution_count": 45,
     "metadata": {},
     "output_type": "execute_result"
    },
    {
     "data": {
      "image/png": "[encoded data removed]",
      "text/plain": [
       "<Figure size 500x400 with 2 Axes>"
      ]
     },
     "metadata": {},
     "output_type": "display_data"
    }
   ],
   "source": [
    "\n",
    "sb.heatmap(comps, cmap='Blues', annot=True)\n"
   ]
  },
  {
   "cell_type": "code",
   "execution_count": null,
   "id": "8faceee0-4287-4be5-a433-e8e4be4456d7",
   "metadata": {},
   "outputs": [],
   "source": []
  }
 ],
 "metadata": {
  "kernelspec": {
   "display_name": "Python 3 (ipykernel)",
   "language": "python",
   "name": "python3"
  },
  "language_info": {
   "codemirror_mode": {
    "name": "ipython",
    "version": 3
   },
   "file_extension": ".py",
   "mimetype": "text/x-python",
   "name": "python",
   "nbconvert_exporter": "python",
   "pygments_lexer": "ipython3",
   "version": "3.12.7"
  }
 },
 "nbformat": 4,
 "nbformat_minor": 5
}
